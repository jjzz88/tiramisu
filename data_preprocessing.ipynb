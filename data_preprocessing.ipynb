{
 "cells": [
  {
   "cell_type": "code",
   "execution_count": 32,
   "id": "6bb1b89b-c025-4aa7-8471-e4657243a83a",
   "metadata": {},
   "outputs": [],
   "source": [
    "import os\n",
    "import collections\n",
    "import shutil\n",
    "import json"
   ]
  },
  {
   "cell_type": "markdown",
   "id": "f9be2a2c-2ced-43a5-a092-ed2a14798e1f",
   "metadata": {},
   "source": [
    "## Count the total number of photos"
   ]
  },
  {
   "cell_type": "code",
   "execution_count": 2,
   "id": "e5d35330-9416-4052-96b1-27f44592ac5a",
   "metadata": {},
   "outputs": [],
   "source": [
    "def count_number_of_photos(folder):\n",
    "    files = os.listdir(folder)\n",
    "    num_of_files = 0\n",
    "    for file in files:\n",
    "        if os.path.isdir(folder + \"/\" + file):\n",
    "            num = count_number_of_photos(folder + \"/\" + file)\n",
    "            num_of_files += num\n",
    "        else:\n",
    "            num_of_files += 1\n",
    "    return num_of_files"
   ]
  },
  {
   "cell_type": "code",
   "execution_count": 3,
   "id": "4a160366-fd55-47bc-9cd0-f4256df410d4",
   "metadata": {},
   "outputs": [],
   "source": [
    "folder = \"CN\"\n",
    "total_num_of_photos = count_number_of_photos(folder)"
   ]
  },
  {
   "cell_type": "code",
   "execution_count": 4,
   "id": "d8f115be-19f7-4f2a-97c9-e487cb761116",
   "metadata": {},
   "outputs": [
    {
     "data": {
      "text/plain": [
       "596448"
      ]
     },
     "execution_count": 4,
     "metadata": {},
     "output_type": "execute_result"
    }
   ],
   "source": [
    "total_num_of_photos"
   ]
  },
  {
   "cell_type": "code",
   "execution_count": 12,
   "id": "b93eaaa4-29d0-47e7-9c84-b81eac736f83",
   "metadata": {},
   "outputs": [],
   "source": [
    "def get_id_to_description(folder):\n",
    "    id_to_description = collections.defaultdict(list)\n",
    "    return recursion(folder, id_to_description)\n",
    "\n",
    "def recursion(folder, id_to_description):\n",
    "    files = os.listdir(folder)\n",
    "    for file in files:\n",
    "        if os.path.isdir(folder + \"/\" + file):\n",
    "            recursion(folder + \"/\" + file, id_to_description)\n",
    "        else:\n",
    "            id_to_description[str(file.split(\"_\")[0])] = file.split(\"_\")[1:]\n",
    "    return id_to_description"
   ]
  },
  {
   "cell_type": "code",
   "execution_count": 6,
   "id": "94864cc4-6ad7-4343-b262-4723c6bfc10e",
   "metadata": {},
   "outputs": [],
   "source": [
    "folder = \"CN\"\n",
    "id_to_description = get_id_to_description(folder)"
   ]
  },
  {
   "cell_type": "code",
   "execution_count": 7,
   "id": "6b1f733c-5aa3-4eac-9789-d1ecaeb34fe1",
   "metadata": {},
   "outputs": [],
   "source": [
    "total_num_of_products = len(id_to_description.keys())"
   ]
  },
  {
   "cell_type": "code",
   "execution_count": 8,
   "id": "8ec84147-476d-4616-a4aa-48acf47352e9",
   "metadata": {},
   "outputs": [
    {
     "data": {
      "text/plain": [
       "22475"
      ]
     },
     "execution_count": 8,
     "metadata": {},
     "output_type": "execute_result"
    }
   ],
   "source": [
    "total_num_of_products"
   ]
  },
  {
   "cell_type": "code",
   "execution_count": 10,
   "id": "2f71fc24-9ed9-4333-9f63-b3660465c014",
   "metadata": {},
   "outputs": [
    {
     "data": {
      "text/plain": [
       "83215"
      ]
     },
     "execution_count": 10,
     "metadata": {},
     "output_type": "execute_result"
    }
   ],
   "source": [
    "total = 0\n",
    "for k, v in id_to_description.items():\n",
    "    total += len(v)\n",
    "total"
   ]
  },
  {
   "cell_type": "code",
   "execution_count": 35,
   "id": "e5aabe7f-dbe4-4522-b358-50cfd8d8eadc",
   "metadata": {},
   "outputs": [],
   "source": [
    "def create_json_file(folder, dst_file):\n",
    "    data = collections.defaultdict(list)\n",
    "    recursion(folder, data)\n",
    "    with open(dst_file, 'w', encoding='utf-8') as out_file:\n",
    "        json.dump(data, out_file, ensure_ascii=False)\n",
    "\n",
    "def recursion(folder, data):\n",
    "    files = os.listdir(folder)\n",
    "    for file in files:\n",
    "        if os.path.isdir(folder + \"/\" + file):\n",
    "            recursion(folder + \"/\" + file, data)\n",
    "        else:\n",
    "            uid = file.split(\"_\")[0]\n",
    "            data[\"unique_id\"].append(uid)\n",
    "            data[\"image_id\"].append(uid)\n",
    "            data[\"caption\"].append(uid)\n",
    "            data[\"image\"].append(folder + \"/\" + file)\n",
    "\n",
    "json_file = \"CN_id_len_13.json\"\n",
    "folder = \"CN/A001\"\n",
    "create_json_file(folder, json_file)"
   ]
  },
  {
   "cell_type": "markdown",
   "id": "60b528c8-c47d-47c7-af9c-772d0c86e145",
   "metadata": {},
   "source": [
    "## 微调数据集\n",
    "\n",
    "- https://zhuanlan.zhihu.com/p/701930953\n",
    "- https://modelscope.cn/datasets/modelscope/coco_2014_caption/summary"
   ]
  },
  {
   "cell_type": "code",
   "execution_count": 30,
   "id": "2fd8c79f-39e9-42ef-af4e-37cb4ac09c24",
   "metadata": {},
   "outputs": [
    {
     "name": "stderr",
     "output_type": "stream",
     "text": [
      "2024-06-14 09:12:50,831 - modelscope - INFO - PyTorch version 2.2.2 Found.\n",
      "2024-06-14 09:12:50,834 - modelscope - INFO - Loading ast index from /root/.cache/modelscope/ast_indexer\n",
      "2024-06-14 09:12:50,981 - modelscope - INFO - Loading done! Current index file version is 1.15.0, with md5 137712c8ca5ebf0802c740a429d6cceb and a total number of 980 components indexed\n",
      "/opt/conda/lib/python3.10/site-packages/tqdm/auto.py:21: TqdmWarning: IProgress not found. Please update jupyter and ipywidgets. See https://ipywidgets.readthedocs.io/en/stable/user_install.html\n",
      "  from .autonotebook import tqdm as notebook_tqdm\n"
     ]
    },
    {
     "name": "stdout",
     "output_type": "stream",
     "text": [
      "transformer is not installed, please install it if you want to use related modules\n"
     ]
    },
    {
     "name": "stderr",
     "output_type": "stream",
     "text": [
      "/opt/conda/lib/python3.10/site-packages/datasets/load.py:2524: FutureWarning: 'ignore_verifications' was deprecated in favor of 'verification_mode' in version 2.9.1 and will be removed in 3.0.0.\n",
      "You can remove this warning by passing 'verification_mode=no_checks' instead.\n",
      "  warnings.warn(\n",
      "/opt/conda/lib/python3.10/site-packages/datasets/load.py:926: FutureWarning: The repository for coco_2014_caption contains custom code which must be executed to correctly load the dataset. You can inspect the repository content at /root/.cache/modelscope/hub/datasets/modelscope/coco_2014_caption/master/meta/coco_2014_caption.py\n",
      "You can avoid this message in future by passing the argument `trust_remote_code=True`.\n",
      "Passing `trust_remote_code=True` will be mandatory to load this dataset from the next major release of `datasets`.\n",
      "  warnings.warn(\n",
      "Downloading data: 100%|████████████████████████████████████████████████████████████████████████████████████████| 14.9M/14.9M [00:12<00:00, 1.17MB/s]\n",
      "Downloading data: 100%|████████████████████████████████████████████████████████████████████████████████████████| 4.93M/4.93M [00:04<00:00, 1.16MB/s]\n",
      "Generating train split: 414113 examples [00:13, 31531.41 examples/s]\n",
      "Generating validation split: 40504 examples [00:01, 30367.29 examples/s]\n"
     ]
    },
    {
     "name": "stdout",
     "output_type": "stream",
     "text": [
      "{'uniq_id': '258768', 'image_id': '11195', 'caption': 'A snow skier assessing the mountain before starting to sky', 'image': <PIL.JpegImagePlugin.JpegImageFile image mode=RGB size=640x480 at 0x791E21F79CF0>}\n"
     ]
    }
   ],
   "source": [
    "from modelscope.msdatasets import MsDataset\n",
    "ds = MsDataset.load(\"coco_2014_caption\", namespace=\"modelscope\", split=\"train\")\n",
    "print(ds[0])"
   ]
  },
  {
   "cell_type": "code",
   "execution_count": 31,
   "id": "0d30297f-f5f6-45f5-854f-568ffbe6dba4",
   "metadata": {},
   "outputs": [
    {
     "data": {
      "text/plain": [
       "{'uniq_id': ['258768',\n",
       "  '725439',\n",
       "  '580123',\n",
       "  '283575',\n",
       "  '392682',\n",
       "  '154143',\n",
       "  '142231',\n",
       "  '569327',\n",
       "  '434237',\n",
       "  '480315'],\n",
       " 'image_id': ['11195',\n",
       "  '367065',\n",
       "  '213997',\n",
       "  '370736',\n",
       "  '524048',\n",
       "  '427137',\n",
       "  '579907',\n",
       "  '45468',\n",
       "  '35230',\n",
       "  '284155'],\n",
       " 'caption': ['A snow skier assessing the mountain before starting to sky',\n",
       "  'a guy that is brushing his teeth and a baby too',\n",
       "  'A chair and a fireplace in a room.',\n",
       "  'A red street sign showing Volt street and Mill street.',\n",
       "  'A young man standing next to a pile of pallets.',\n",
       "  'Some sheep walking in the field and having some fun.',\n",
       "  'A living room complete with couches, television, and fireplace.',\n",
       "  'a bath room with a toilet and a sink and a pile of trash',\n",
       "  \"Two pizza's salad's and drinks on a table with plates.\",\n",
       "  'A clean kitchen with white cabinets and a black oven'],\n",
       " 'image': [<PIL.JpegImagePlugin.JpegImageFile image mode=RGB size=640x480>,\n",
       "  <PIL.JpegImagePlugin.JpegImageFile image mode=RGB size=640x480>,\n",
       "  <PIL.JpegImagePlugin.JpegImageFile image mode=RGB size=375x500>,\n",
       "  <PIL.JpegImagePlugin.JpegImageFile image mode=RGB size=640x480>,\n",
       "  <PIL.JpegImagePlugin.JpegImageFile image mode=RGB size=639x640>,\n",
       "  <PIL.JpegImagePlugin.JpegImageFile image mode=RGB size=250x188>,\n",
       "  <PIL.JpegImagePlugin.JpegImageFile image mode=RGB size=640x480>,\n",
       "  <PIL.JpegImagePlugin.JpegImageFile image mode=RGB size=640x425>,\n",
       "  <PIL.JpegImagePlugin.JpegImageFile image mode=RGB size=640x427>,\n",
       "  <PIL.JpegImagePlugin.JpegImageFile image mode=RGB size=640x427>]}"
      ]
     },
     "execution_count": 31,
     "metadata": {},
     "output_type": "execute_result"
    }
   ],
   "source": [
    "ds[:10]"
   ]
  },
  {
   "cell_type": "code",
   "execution_count": null,
   "id": "a9b6ab9b-5781-4879-9760-670e4db83ce8",
   "metadata": {},
   "outputs": [],
   "source": []
  }
 ],
 "metadata": {
  "kernelspec": {
   "display_name": "Python 3 (ipykernel)",
   "language": "python",
   "name": "python3"
  },
  "language_info": {
   "codemirror_mode": {
    "name": "ipython",
    "version": 3
   },
   "file_extension": ".py",
   "mimetype": "text/x-python",
   "name": "python",
   "nbconvert_exporter": "python",
   "pygments_lexer": "ipython3",
   "version": "3.10.14"
  }
 },
 "nbformat": 4,
 "nbformat_minor": 5
}
