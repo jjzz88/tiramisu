{
 "cells": [
  {
   "cell_type": "code",
   "execution_count": 55,
   "id": "6bb1b89b-c025-4aa7-8471-e4657243a83a",
   "metadata": {},
   "outputs": [],
   "source": [
    "import os\n",
    "import collections\n",
    "import shutil\n",
    "import json\n",
    "import numpy as np"
   ]
  },
  {
   "cell_type": "code",
   "execution_count": 73,
   "id": "53d4439f-9e2b-40dc-b6bc-3bc2ec0498f6",
   "metadata": {},
   "outputs": [],
   "source": [
    "path = \"CN/A001\"\n",
    "seed = 42\n",
    "train_ratio = 1\n",
    "dst_path_prefix = \"CN_A001_\""
   ]
  },
  {
   "cell_type": "markdown",
   "id": "f9be2a2c-2ced-43a5-a092-ed2a14798e1f",
   "metadata": {},
   "source": [
    "## Count the total number of files\n",
    "\n",
    "Given the path to a folder which may contain subfolders, count the total number of files in this folder."
   ]
  },
  {
   "cell_type": "code",
   "execution_count": 74,
   "id": "e5d35330-9416-4052-96b1-27f44592ac5a",
   "metadata": {},
   "outputs": [],
   "source": [
    "def get_number_of_files(path):\n",
    "    files = os.listdir(path)\n",
    "    num_of_files = 0\n",
    "    for file in files:\n",
    "        path_to_file = os.path.join(path, file)\n",
    "        if os.path.isdir(path_to_file):\n",
    "            num_of_files += get_number_of_files(path_to_file)\n",
    "        else:\n",
    "            num_of_files += 1\n",
    "    return num_of_files"
   ]
  },
  {
   "cell_type": "code",
   "execution_count": 75,
   "id": "4a160366-fd55-47bc-9cd0-f4256df410d4",
   "metadata": {},
   "outputs": [
    {
     "name": "stdout",
     "output_type": "stream",
     "text": [
      "8129\n"
     ]
    }
   ],
   "source": [
    "print(get_number_of_files(path))"
   ]
  },
  {
   "cell_type": "markdown",
   "id": "bee5aa74-34d1-43e5-a766-3c4c8f00c03f",
   "metadata": {},
   "source": [
    "## Get unique IDs (i.e. different products)\n",
    "\n",
    "Assume the filename starts with a unique ID (which could be SKU, EAN, etc) followed by underscore. Given the path of a folder which may contain subfolders, get unique IDs (i.e., different products) in this folder."
   ]
  },
  {
   "cell_type": "code",
   "execution_count": 76,
   "id": "64cfd0fe-a954-4364-8339-8ff22d4c4f44",
   "metadata": {},
   "outputs": [],
   "source": [
    "def get_unique_ids(path):\n",
    "    uids = set()\n",
    "    get_unique_ids_help(path, uids)\n",
    "    return uids\n",
    "\n",
    "def get_unique_ids_help(path, uids):\n",
    "    files = os.listdir(path)\n",
    "    for file in files:\n",
    "        path_to_file = os.path.join(path, file)\n",
    "        if os.path.isdir(path_to_file):\n",
    "            get_unique_ids_help(path_to_file, uids)\n",
    "        else:\n",
    "            uids.add(file.split(\"_\")[0])"
   ]
  },
  {
   "cell_type": "code",
   "execution_count": 77,
   "id": "46dbdfba-3cfd-48d9-a46c-0510093697a7",
   "metadata": {},
   "outputs": [
    {
     "name": "stdout",
     "output_type": "stream",
     "text": [
      "127\n"
     ]
    }
   ],
   "source": [
    "print(len(get_unique_ids(path)))"
   ]
  },
  {
   "cell_type": "markdown",
   "id": "8242df3d-d39a-4eb3-9c3b-d321a1e215a5",
   "metadata": {},
   "source": [
    "## Get mapping from uid + description to file location\n",
    "\n",
    "When products are differentiated by both EAN and description, we map uid and description to file location. Assume uid and description are the first two parts in filename separated by underscore. "
   ]
  },
  {
   "cell_type": "code",
   "execution_count": 78,
   "id": "3ef060e4-baa6-4a80-b467-cfa936ae47f5",
   "metadata": {},
   "outputs": [],
   "source": [
    "def get_mapping_from_uid_description_to_location(path):\n",
    "    uid_description_to_location = collections.defaultdict(list)\n",
    "    get_mapping_from_uid_description_to_location_help(path, uid_description_to_location)\n",
    "    return uid_description_to_location\n",
    "\n",
    "def get_mapping_from_uid_description_to_location_help(path, uid_description_to_location):\n",
    "    files = os.listdir(path)\n",
    "    for file in files:\n",
    "        path_to_file = os.path.join(path, file)\n",
    "        if os.path.isdir(path_to_file):\n",
    "            get_mapping_from_uid_description_to_location_help(path_to_file, uid_description_to_location)\n",
    "        else:\n",
    "            s = file.split(\"_\")\n",
    "            uid_description_to_location[s[0] + \"_\" + s[1]].append(path_to_file)"
   ]
  },
  {
   "cell_type": "code",
   "execution_count": 79,
   "id": "f8af4228-2470-42d8-9e96-6d7b3f164bae",
   "metadata": {},
   "outputs": [],
   "source": [
    "uid_description_to_location = get_mapping_from_uid_description_to_location(path)\n",
    "assert len(uid_description_to_location.keys()) >= len(get_unique_ids(path))\n",
    "assert sum([len(x) for x in uid_description_to_location.values()]) == get_number_of_files(path)"
   ]
  },
  {
   "cell_type": "markdown",
   "id": "e61ff87e-ab3f-42d8-bbb5-a4ea000a85b1",
   "metadata": {},
   "source": [
    "## Train test split\n",
    "\n",
    "Given the path of a folder which may contain subfolders, split files of each product into two parts, one for training and the other for testing, with a specified ratio. Assume that products with the same EAN may have different descriptions. We differentiate products by both EAN and description."
   ]
  },
  {
   "cell_type": "code",
   "execution_count": 80,
   "id": "7daba79f-e5f6-4fc0-b145-ff529800f877",
   "metadata": {},
   "outputs": [],
   "source": [
    "def train_test_split_ean_description(path, train_ratio=0.9, seed=43):\n",
    "    \"\"\"\n",
    "    params:\n",
    "    ratio: the proportion of training data\n",
    "    \"\"\"\n",
    "    np.random.seed(seed)\n",
    "    uid_description_to_location = get_mapping_from_uid_description_to_location(path)\n",
    "    train_uid, train_description, train_file_location = [], [], []\n",
    "    test_uid, test_description, test_file_location = [], [], []\n",
    "    for uid_description in uid_description_to_location.keys():\n",
    "        s = uid_description.split(\"_\")\n",
    "        uid = s[0]\n",
    "        description = s[1]\n",
    "        n = len(uid_description_to_location[uid_description])\n",
    "        k = int(n * train_ratio)\n",
    "        index = np.random.choice(n, k, replace=False)\n",
    "        train_uid.extend([uid] * k)\n",
    "        train_description.extend([description] * k)\n",
    "        train_file_location.extend([uid_description_to_location[uid_description][_] for _ in index])\n",
    "        test_uid.extend([uid] * (n - k))\n",
    "        test_description.extend([description] * (n - k))\n",
    "        test_file_location.extend([uid_description_to_location[uid_description][_] for _ in set(range(n)) - set(index)])\n",
    "    return train_uid, train_description, train_file_location, test_uid, test_description, test_file_location"
   ]
  },
  {
   "cell_type": "code",
   "execution_count": 81,
   "id": "d94fe9ed-223a-4815-8945-8dbedb599c38",
   "metadata": {},
   "outputs": [],
   "source": [
    "train_uid, train_description, train_file_location, test_uid, test_description, test_file_location = train_test_split_ean_description(path, train_ratio, seed)"
   ]
  },
  {
   "cell_type": "code",
   "execution_count": 82,
   "id": "91c8c8a6-c14c-4d45-8eca-60f091cd9fd1",
   "metadata": {},
   "outputs": [
    {
     "data": {
      "text/plain": [
       "8129"
      ]
     },
     "execution_count": 82,
     "metadata": {},
     "output_type": "execute_result"
    }
   ],
   "source": [
    "len(train_uid)"
   ]
  },
  {
   "cell_type": "code",
   "execution_count": 83,
   "id": "30700e9b-1f38-4207-b070-86c5f64220b0",
   "metadata": {},
   "outputs": [
    {
     "data": {
      "text/plain": [
       "0"
      ]
     },
     "execution_count": 83,
     "metadata": {},
     "output_type": "execute_result"
    }
   ],
   "source": [
    "len(test_uid)"
   ]
  },
  {
   "cell_type": "code",
   "execution_count": 84,
   "id": "23e611be-200f-4439-ba97-4638337a8eb5",
   "metadata": {},
   "outputs": [
    {
     "data": {
      "text/plain": [
       "8129"
      ]
     },
     "execution_count": 84,
     "metadata": {},
     "output_type": "execute_result"
    }
   ],
   "source": [
    "len(train_description)"
   ]
  },
  {
   "cell_type": "code",
   "execution_count": 85,
   "id": "cbe9d7ab-6446-4b35-946b-d5233af66daf",
   "metadata": {},
   "outputs": [
    {
     "data": {
      "text/plain": [
       "134"
      ]
     },
     "execution_count": 85,
     "metadata": {},
     "output_type": "execute_result"
    }
   ],
   "source": [
    "len(set(train_description))"
   ]
  },
  {
   "cell_type": "markdown",
   "id": "d7e16457-23a2-4ced-b018-cc165c016454",
   "metadata": {},
   "source": [
    "## Prepare datasets for fine-tuning GLM-4V-9B\n",
    "\n",
    "The dataset is of format List[Dict[str, Any]]. Refer to https://github.com/modelscope/swift/blob/main/swift/utils/np_utils.py"
   ]
  },
  {
   "cell_type": "code",
   "execution_count": 91,
   "id": "e32f48a3-cf55-4cbb-bdec-ab27f5ee3e75",
   "metadata": {},
   "outputs": [],
   "source": [
    "def create_json_file_glm_4v_9b(dst, uid, description, file_location, query, mode):\n",
    "    data = []\n",
    "    for i in range(len(uid)):\n",
    "        dic = {}\n",
    "        dic[\"query\"] = query\n",
    "        if mode == \"ean\":\n",
    "            dic[\"response\"] = uid[i]\n",
    "        elif mode == \"description\":\n",
    "            dic[\"response\"] = description[i]\n",
    "        elif mode == \"description_ean\":\n",
    "            dic[\"response\"] = \"商品名称是\" + description[i] + \", 编号是\" + uid[i]\n",
    "        else:\n",
    "            raise Exception(\"Invalid choise!\") \n",
    "        dic[\"images\"] = [file_location[i]]\n",
    "        data.append(dic)\n",
    "    with open(dst, 'w', encoding='utf-8') as out_file:\n",
    "        json.dump(data, out_file, ensure_ascii=False)"
   ]
  },
  {
   "cell_type": "code",
   "execution_count": 88,
   "id": "df64194d-425e-4c47-84fa-e71e9633c8fb",
   "metadata": {},
   "outputs": [],
   "source": [
    "mode = \"description\"\n",
    "query = \"图中商品的名称是什么\"\n",
    "filename = dst_path_prefix + \"train_glm_4v_9b_\" + mode + \"_\" + str(seed) + \"_\" + str(int(train_ratio * 100)) + \".json\"\n",
    "create_json_file_glm_4v_9b(filename, train_uid, train_description, train_file_location, query, mode)\n",
    "filename = dst_path_prefix + \"test_glm_4v_9b_\" + mode + \"_\" + str(seed) + \"_\" + str(int(train_ratio * 100)) + \".json\"\n",
    "create_json_file_glm_4v_9b(filename, test_uid, test_description, test_file_location, query, mode)"
   ]
  },
  {
   "cell_type": "code",
   "execution_count": 89,
   "id": "c2b9f3a0-b5e2-416e-9da0-e94c7ed097b7",
   "metadata": {},
   "outputs": [],
   "source": [
    "mode = \"ean\"\n",
    "query = \"图中商品的编号是什么\"\n",
    "filename = dst_path_prefix + \"train_glm_4v_9b_\" + mode + \"_\" + str(seed) + \"_\" + str(int(train_ratio * 100)) + \".json\"\n",
    "create_json_file_glm_4v_9b(filename, train_uid, train_description, train_file_location, query, mode)\n",
    "filename = dst_path_prefix + \"test_glm_4v_9b_\" + mode + \"_\" + str(seed) + \"_\" + str(int(train_ratio * 100)) + \".json\"\n",
    "create_json_file_glm_4v_9b(filename, test_uid, test_description, test_file_location, query, mode)"
   ]
  },
  {
   "cell_type": "code",
   "execution_count": null,
   "id": "d15a2d09-2da7-4beb-bd39-dad2581498ce",
   "metadata": {},
   "outputs": [],
   "source": [
    "mode = \"description_ean\"\n",
    "query = \"图中商品的名称和编号是什么\"\n",
    "filename = dst_path_prefix + \"train_glm_4v_9b_\" + mode + \"_\" + str(seed) + \"_\" + str(int(train_ratio * 100)) + \".json\"\n",
    "create_json_file_glm_4v_9b(filename, train_uid, train_description, train_file_location, query, mode)\n",
    "filename = dst_path_prefix + \"test_glm_4v_9b_\" + mode + \"_\" + str(seed) + \"_\" + str(int(train_ratio * 100)) + \".json\"\n",
    "create_json_file_glm_4v_9b(filename, test_uid, test_description, test_file_location, query, mode)"
   ]
  },
  {
   "cell_type": "code",
   "execution_count": 92,
   "id": "b2029acd-641d-4f66-8255-35ccd2449f1f",
   "metadata": {},
   "outputs": [],
   "source": [
    "mode = \"description_ean\"\n",
    "query = \"图中商品的名称和编号是什么\"\n",
    "filename = dst_path_prefix + \"train_glm_4v_9b_\" + mode + \"_\" + str(seed) + \"_\" + str(int(train_ratio * 100)) + \"_v2.json\"\n",
    "create_json_file_glm_4v_9b(filename, train_uid, train_description, train_file_location, query, mode)\n",
    "filename = dst_path_prefix + \"test_glm_4v_9b_\" + mode + \"_\" + str(seed) + \"_\" + str(int(train_ratio * 100)) + \"_v2.json\"\n",
    "create_json_file_glm_4v_9b(filename, test_uid, test_description, test_file_location, query, mode)"
   ]
  },
  {
   "cell_type": "code",
   "execution_count": null,
   "id": "7f1995c4-ea3b-410b-9ba8-d7e71eebec01",
   "metadata": {},
   "outputs": [],
   "source": []
  }
 ],
 "metadata": {
  "kernelspec": {
   "display_name": "Python 3 (ipykernel)",
   "language": "python",
   "name": "python3"
  },
  "language_info": {
   "codemirror_mode": {
    "name": "ipython",
    "version": 3
   },
   "file_extension": ".py",
   "mimetype": "text/x-python",
   "name": "python",
   "nbconvert_exporter": "python",
   "pygments_lexer": "ipython3",
   "version": "3.10.14"
  }
 },
 "nbformat": 4,
 "nbformat_minor": 5
}
