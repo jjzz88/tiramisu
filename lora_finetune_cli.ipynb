{
 "cells": [
  {
   "cell_type": "code",
   "execution_count": null,
   "id": "f5dfdc12-34c2-4ce7-9bf9-bfb3e4c2f040",
   "metadata": {},
   "outputs": [],
   "source": [
    "# CUDA_VISIBLE_DEVICES=0 swift sft --model_type glm4v-9b-chat --model_id_or_path glm-4v-9b --dataset CN_A001_train_glm_4v_9b_description_42_100.json --sft_type lora --num_train_epochs 5"
   ]
  },
  {
   "cell_type": "code",
   "execution_count": null,
   "id": "27e84d97-7224-4c92-acc9-229ebcb92e01",
   "metadata": {},
   "outputs": [],
   "source": [
    "# CUDA_VISIBLE_DEVICES=0 swift sft --model_type glm4v-9b-chat --model_id_or_path glm-4v-9b --dataset CN_A001_train_glm_4v_9b_ean_42_100.json --sft_type lora --num_train_epochs 5"
   ]
  },
  {
   "cell_type": "code",
   "execution_count": null,
   "id": "c5441f00-1551-473b-977a-f180475ae9ba",
   "metadata": {},
   "outputs": [],
   "source": [
    "CUDA_VISIBLE_DEVICES=0 swift sft --model_type glm4v-9b-chat --model_id_or_path glm-4v-9b --dataset CN_A001_train_glm_4v_9b_description_ean_42_100.json --sft_type lora --num_train_epochs 5"
   ]
  },
  {
   "cell_type": "code",
   "execution_count": null,
   "id": "be6b9452-bc0e-40a2-9ead-71009bef8e45",
   "metadata": {},
   "outputs": [],
   "source": [
    "CUDA_VISIBLE_DEVICES=0 swift sft --model_type glm4v-9b-chat --model_id_or_path glm-4v-9b --dataset CN_A001_train_glm_4v_9b_description_ean_42_100_v2.json --sft_type lora --num_train_epochs 5"
   ]
  }
 ],
 "metadata": {
  "kernelspec": {
   "display_name": "Python 3 (ipykernel)",
   "language": "python",
   "name": "python3"
  },
  "language_info": {
   "codemirror_mode": {
    "name": "ipython",
    "version": 3
   },
   "file_extension": ".py",
   "mimetype": "text/x-python",
   "name": "python",
   "nbconvert_exporter": "python",
   "pygments_lexer": "ipython3",
   "version": "3.10.14"
  }
 },
 "nbformat": 4,
 "nbformat_minor": 5
}
